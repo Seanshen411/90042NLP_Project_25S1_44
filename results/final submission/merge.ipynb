{
 "cells": [
  {
   "cell_type": "code",
   "execution_count": null,
   "id": "db0c0c3c",
   "metadata": {},
   "outputs": [],
   "source": [
    "import json\n",
    "import glob\n",
    "\n",
    "def add_step_to_records(file_path):\n",
    "    \"\"\" 读取 JSON 文件并添加 step 记录 \"\"\"\n",
    "    with open(file_path, 'r', encoding='utf-8') as f:\n",
    "        data = json.load(f)\n",
    "\n",
    "    # 计算 loss 记录的 step（从第10个开始，每次递增 10）\n",
    "    data[\"loss_record\"] = [{\"step\": (i + 1) * 10, \"value\": val} for i, val in enumerate(data[\"loss_record\"])]\n",
    "\n",
    "    # 计算 f1、recall、precision 记录的 step（从第100开始，每次递增 100）\n",
    "    for key in [\"f1_record\", \"recall_record\", \"precision_record\"]:\n",
    "        data[key] = [{\"step\": (i + 1) * 100, \"value\": val} for i, val in enumerate(data[key])]\n",
    "\n",
    "    # 保存更新后的 JSON 文件\n",
    "    with open(file_path, 'w', encoding='utf-8') as f:\n",
    "        json.dump(data, f, indent=4)\n",
    "\n",
    "# def process_json_files(directory):\n",
    "#     \"\"\" 处理多个 JSON 文件 \"\"\"\n",
    "#     json_files = glob.glob(f\"{directory}/*.json\")\n",
    "#     for file in json_files:\n",
    "#         add_step_to_records(file)\n",
    "#         print(f\"Updated: {file}\")\n",
    "\n",
    "# # 运行代码（修改为你的 JSON 文件所在目录）\n",
    "# add_step_to_records(\"2.json\")\n",
    "# add_step_to_records(\"3.json\")\n",
    "# add_step_to_records(\"4.json\")\n"
   ]
  },
  {
   "cell_type": "code",
   "execution_count": 4,
   "id": "407e681e",
   "metadata": {},
   "outputs": [],
   "source": [
    "def merge_json_files(file_list, output_file):\n",
    "    \"\"\"合并多个 JSON 文件的内容到一个 JSON 文件中\"\"\"\n",
    "    merged_data = []\n",
    "    for file_path in file_list:\n",
    "        with open(file_path, 'r', encoding='utf-8') as f:\n",
    "            data = json.load(f)\n",
    "            merged_data.append(data)\n",
    "    with open(output_file, 'w', encoding='utf-8') as f:\n",
    "        json.dump(merged_data, f, indent=4)\n",
    "\n",
    "# 合并 1.json, 2.json, 3.json, 4.json 到 merged.json\n",
    "merge_json_files(['1.json', '2.json', '3.json', '4.json'], 'retrival_experiment.json')"
   ]
  }
 ],
 "metadata": {
  "kernelspec": {
   "display_name": "base",
   "language": "python",
   "name": "python3"
  },
  "language_info": {
   "codemirror_mode": {
    "name": "ipython",
    "version": 3
   },
   "file_extension": ".py",
   "mimetype": "text/x-python",
   "name": "python",
   "nbconvert_exporter": "python",
   "pygments_lexer": "ipython3",
   "version": "3.12.7"
  }
 },
 "nbformat": 4,
 "nbformat_minor": 5
}

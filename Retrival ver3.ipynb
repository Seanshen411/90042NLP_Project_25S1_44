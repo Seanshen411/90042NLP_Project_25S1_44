{
  "cells": [
    {
      "cell_type": "markdown",
      "metadata": {
        "id": "32yCsRUo8H33"
      },
      "source": [
        "# 2025 COMP90042 Project\n",
        "*Make sure you change the file name with your group id.*"
      ]
    },
    {
      "cell_type": "markdown",
      "metadata": {
        "id": "XCybYoGz8YWQ"
      },
      "source": [
        "# Readme\n",
        "*If there is something to be noted for the marker, please mention here.*\n",
        "\n",
        "*If you are planning to implement a program with Object Oriented Programming style, please put those the bottom of this ipynb file*"
      ]
    },
    {
      "cell_type": "markdown",
      "metadata": {
        "id": "6po98qVA8bJD"
      },
      "source": [
        "# 1.DataSet Processing\n",
        "(You can add as many code blocks and text blocks as you need. However, YOU SHOULD NOT MODIFY the section title)"
      ]
    },
    {
      "cell_type": "code",
      "execution_count": 3,
      "metadata": {
        "id": "qvff21Hv8zjk"
      },
      "outputs": [
        {
          "name": "stdout",
          "output_type": "stream",
          "text": [
            "Removed 564 evidences shorter than 5\n",
            "Train claims: 1228\n",
            "Dev claims: 154\n",
            "Evidences: 1208263\n",
            "Test claims: 153\n"
          ]
        }
      ],
      "source": [
        "import os\n",
        "import json\n",
        "\n",
        "data_file = \"/content/data\"\n",
        "data_file = \"data\"\n",
        "train_file = os.path.join(data_file, 'train-claims.json')\n",
        "dev_file = os.path.join(data_file, 'dev-claims.json')\n",
        "evidence_file = os.path.join(data_file, 'evidence.json')\n",
        "test_file = os.path.join(data_file, 'test-claims-unlabelled.json')\n",
        "\n",
        "def remove_short_evidences(evidences, min_length=5):\n",
        "    filtered_evidences = {eid: text for eid, text in evidences.items() if len(text) >= min_length}\n",
        "    print(f\"Removed {len(evidences) - len(filtered_evidences)} evidences shorter than {min_length}\")\n",
        "    return filtered_evidences\n",
        "\n",
        "with open(train_file, 'r') as f:\n",
        "    tr_claims = json.load(f)\n",
        "tr_numbers = list(tr_claims.keys())\n",
        "tr_texts = [tr_claims[claim_id]['claim_text'] for claim_id in tr_numbers]\n",
        "claim_number_to_tr_id = {claim_id: i for i, claim_id in enumerate(tr_numbers)}\n",
        "\n",
        "with open(dev_file, 'r') as f:\n",
        "    dev_claims = json.load(f)\n",
        "dev_numbers = list(dev_claims.keys())\n",
        "dev_texts = [dev_claims[claim_id]['claim_text'] for claim_id in dev_numbers]\n",
        "\n",
        "with open(evidence_file, 'r') as f:\n",
        "    evidences = json.load(f)\n",
        "evidences = remove_short_evidences(evidences)\n",
        "evi_numbers = list(evidences.keys())\n",
        "evidences_texts = [evidences[evidence_id] for evidence_id in evi_numbers]\n",
        "evi_number_to_evi_id = {evi_number: i for i, evi_number in enumerate(evi_numbers)}\n",
        "\n",
        "with open(test_file, 'r') as f:\n",
        "    test_claims = json.load(f)\n",
        "ts_numbers = list(test_claims.keys())\n",
        "ts_texts = [test_claims[claim_id]['claim_text'] for claim_id in ts_numbers]\n",
        "\n",
        "print(\"Train claims:\", len(tr_claims))\n",
        "print(\"Dev claims:\", len(dev_claims))   \n",
        "print(\"Evidences:\", len(evidences))\n",
        "print(\"Test claims:\", len(test_claims))"
      ]
    },
    {
      "cell_type": "code",
      "execution_count": null,
      "metadata": {},
      "outputs": [],
      "source": [
        "model_name = \"sentence-transformers/all-MiniLM-L6-v2\"\n",
        "import torch\n",
        "from transformers import AutoTokenizer, AutoModel\n",
        "#todo test other models\n",
        "\n",
        "tokenizer = AutoTokenizer.from_pretrained(model_name, max_len=512)"
      ]
    },
    {
      "cell_type": "markdown",
      "metadata": {},
      "source": [
        "# 2. Model Implementation\n",
        "(You can add as many code blocks and text blocks as you need. However, YOU SHOULD NOT MODIFY the section title)"
      ]
    },
    {
      "cell_type": "code",
      "execution_count": 1,
      "metadata": {},
      "outputs": [
        {
          "name": "stderr",
          "output_type": "stream",
          "text": [
            "[nltk_data] Downloading package stopwords to C:\\Users\\Salist\n",
            "[nltk_data]     desk2\\AppData\\Roaming\\nltk_data...\n",
            "[nltk_data]   Package stopwords is already up-to-date!\n",
            "[nltk_data] Downloading package punkt_tab to C:\\Users\\Salist\n",
            "[nltk_data]     desk2\\AppData\\Roaming\\nltk_data...\n",
            "[nltk_data]   Package punkt_tab is already up-to-date!\n"
          ]
        }
      ],
      "source": [
        "#######TFIDF functions#######\n",
        "import nltk\n",
        "from nltk.tokenize import word_tokenize\n",
        "from nltk.stem import WordNetLemmatizer\n",
        "from nltk.corpus import stopwords\n",
        "nltk.download('stopwords')\n",
        "nltk.download('punkt_tab')\n",
        "from sklearn.feature_extraction.text import TfidfVectorizer\n",
        "from scipy import sparse\n",
        "import joblib\n",
        "\n",
        "lemmatizer = WordNetLemmatizer()\n",
        "def word_tokenize_and_lemmatize(text):\n",
        "    def lemmatize_word(token):\n",
        "        token = lemmatizer.lemmatize(token, pos='v')\n",
        "        token = lemmatizer.lemmatize(token, pos='n') if token != token else token\n",
        "        return token\n",
        "    tokens = word_tokenize(text.lower())\n",
        "    tokens = [token for token in tokens if token.isalpha() and token not in stopwords.words('english')]\n",
        "    lemmed_tokens = [lemmatize_word(token) for token in tokens]\n",
        "    return lemmed_tokens\n",
        "\n",
        "def save_tfidf_model(text_list, path_name):\n",
        "    vectorizer = TfidfVectorizer(tokenizer=word_tokenize_and_lemmatize, max_features=2000)\n",
        "    text_ids = list(text_list.keys())\n",
        "    text_list = [text_list[id] for id in text_ids]\n",
        "\n",
        "    tfidf_matrix = vectorizer.fit_transform(text_list)\n",
        "    vector_path=str(path_name + \"_vectors.npz\")\n",
        "    model_path=str(path_name + \"_vectorizer.pkl\")\n",
        "    sparse.save_npz(vector_path, tfidf_matrix)\n",
        "    joblib.dump(vectorizer, model_path)\n",
        "    print(f\"Saved TF-IDF vectors to '{vector_path}' and vectorizer to '{model_path}'\")\n",
        "\n",
        "def load_tfidf(path_name):\n",
        "    vector_path=str(path_name + \"_vectors.npz\")\n",
        "    model_path=str(path_name + \"_vectorizer.pkl\")\n",
        "    tfidf_matrix = sparse.load_npz(vector_path)\n",
        "    vectorizer = joblib.load(model_path)\n",
        "    print(f\"Loaded TF-IDF matrix from '{vector_path}' and vectorizer from '{model_path}'\")\n",
        "    return tfidf_matrix, vectorizer"
      ]
    },
    {
      "cell_type": "code",
      "execution_count": null,
      "metadata": {},
      "outputs": [],
      "source": [
        "#run save tfidf\n",
        "save_tfidf_model(evidences, \"evidences\")\n",
        "\n",
        "#load tfidf\n",
        "# tfidf_vectors, tfidf_vectorizer = load_tfidf(\"data/evidences\")"
      ]
    },
    {
      "cell_type": "code",
      "execution_count": null,
      "metadata": {},
      "outputs": [
        {
          "name": "stdout",
          "output_type": "stream",
          "text": [
            "Loaded TF-IDF matrix from 'data/evidences_vectors.npz' and vectorizer from 'data/evidences_vectorizer.pkl'\n"
          ]
        }
      ],
      "source": [
        "from sklearn.metrics.pairwise import cosine_similarity\n",
        "import numpy as np\n",
        "def top_k_evidence(vectors, k=5):\n",
        "    similarity = cosine_similarity(vectors, evidences_vectors)\n",
        "    top_k_indices = np.argsort(similarity, axis=1)[:, -k:]\n",
        "    top_k_indices = np.flip(top_k_indices, axis=1)\n",
        "    return top_k_indices\n",
        "\n",
        "def filter_evidences_by_top_ids(evidences, top_k_indices):\n",
        "    keep_indices = set(top_k_indices.flatten())\n",
        "    idx_to_evi_number = {v: k for k, v in evi_number_to_evi_id.items()}\n",
        "    filtered = {idx_to_evi_number[i]: evidences[idx_to_evi_number[i]] for i in keep_indices if i in idx_to_evi_number}\n",
        "    print(f\"Filtered evidences: {len(filtered)} / {len(evidences)}\")\n",
        "    return filtered\n",
        "\n",
        "evidences_vectors, evidences_vectorizer = load_tfidf(\"data/evidences\")\n",
        "tr_claims_vectors = evidences_vectorizer.transform([tr_claims[id]['claim_text'] for id in tr_numbers])\n",
        "tr_tfidf_top10_evidence_id = top_k_evidence(tr_claims_vectors, k=100)\n",
        "\n",
        "tr_tfidf_evidences = filter_evidences_by_top_ids(evidences, tr_tfidf_top10_evidence_id)"
      ]
    },
    {
      "cell_type": "code",
      "execution_count": null,
      "metadata": {},
      "outputs": [],
      "source": [
        "#######Filter evidence with high tifidf score#######\n",
        "evidences = tr_tfidf_evidences\n",
        "evi_numbers = list(evidences.keys())\n",
        "evidences_texts = [evidences[evidence_id] for evidence_id in evi_numbers]\n",
        "evi_number_to_evi_id = {evi_number: i for i, evi_number in enumerate(evi_numbers)}"
      ]
    },
    {
      "cell_type": "code",
      "execution_count": null,
      "metadata": {},
      "outputs": [],
      "source": [
        "#######sbert functions#######\n",
        "import torch\n",
        "import torch.nn as nn\n",
        "import torch.nn.functional as F\n",
        "import numpy as np\n",
        "from tqdm import tqdm\n",
        "\n",
        "def generate_batched_embeddings_ts(model, texts, batch_size=32):\n",
        "    all_embeddings = []\n",
        "    with torch.no_grad():\n",
        "        for i in tqdm(range(0, len(texts), batch_size)):\n",
        "            batch_evi_indices = texts[i:i + batch_size]\n",
        "            inputs = tokenizer(batch_evi_indices, padding=True, truncation=True, return_tensors=\"pt\").to(model.device)\n",
        "            outputs = model(**inputs)\n",
        "            batch_embeddings = outputs.last_hidden_state[:, 0, :].cpu()\n",
        "            all_embeddings.append(batch_embeddings)\n",
        "            del batch_embeddings\n",
        "            torch.cuda.empty_cache()\n",
        "    return torch.cat(all_embeddings)\n",
        "\n",
        "#returns f1 for each claim\n",
        "def evaluate_retrival(claims, top_evidence_id):\n",
        "    claims_f1 = []\n",
        "    for i, claim_id in enumerate(claims.keys()):\n",
        "        correct = 0\n",
        "        recall = 0.0\n",
        "        precision = 0.0\n",
        "        fscore = 0.0\n",
        "        \n",
        "        claim = claims[claim_id]\n",
        "        true_evidence_ids = claim['evidences']\n",
        "        for true_evidence in true_evidence_ids:\n",
        "            true_evidence_id = int(true_evidence.split('-')[1])\n",
        "            if true_evidence_id in top_evidence_id:\n",
        "                correct += 1\n",
        "        if correct > 0:\n",
        "            recall = correct / len(true_evidence_ids)\n",
        "            precision = correct / len(top_evidence_id[i])\n",
        "            fscore = (2 * precision * recall) / (precision + recall)\n",
        "        claims_f1.append(fscore)\n",
        "    return claims_f1\n",
        "\n",
        "#returns avg f1 for input claims\n",
        "def calc_f1(claim_texts_indices, claims, evidences_text_indices, model, bathch_size=32):\n",
        "    model.eval()\n",
        "\n",
        "    claim_embeddings = generate_batched_embeddings_ts(model, claim_texts_indices, batch_size=bathch_size)\n",
        "    claim_embeddings_norm = F.normalize(claim_embeddings, p=2, dim=1)\n",
        "\n",
        "    evidences_embeddings = generate_batched_embeddings_ts(model, evidences_text_indices, batch_size=bathch_size)\n",
        "    evidences_embeddings_norm = F.normalize(evidences_embeddings, p=2, dim=1)\n",
        "\n",
        "    cos_similarities = torch.matmul(claim_embeddings_norm, evidences_embeddings_norm.T)\n",
        "\n",
        "    top_k = 5\n",
        "    top_k_indices = torch.topk(cos_similarities, top_k, dim=1).indices\n",
        "    top_k_indices = top_k_indices.numpy()\n",
        "\n",
        "    claims_f1 = evaluate_retrival(claims, top_k_indices)\n",
        "    model.train()\n",
        "    return np.mean(claims_f1)\n",
        "\n",
        "#get normalized embeddings from model\n",
        "def get_normalized_embeddings(texts, model, tokenizer):\n",
        "    model_inputs = tokenizer(texts, padding=True, truncation=True, return_tensors=\"pt\").to(model.device)\n",
        "    outputs = model(**model_inputs)\n",
        "    embeddings = outputs.last_hidden_state[:, 0, :]\n",
        "    norm_embeddings = F.normalize(embeddings, p=2, dim=1)\n",
        "    return norm_embeddings"
      ]
    },
    {
      "cell_type": "code",
      "execution_count": null,
      "metadata": {},
      "outputs": [],
      "source": [
        "#returns all evidence indices included in the claim tr\n",
        "def get_real_evidences(batch_claims):\n",
        "    evi_indices = []\n",
        "    claims_pos_evidence_indices = []\n",
        "    for claim in batch_claims:\n",
        "        pos_evi_indices = []\n",
        "        for evi_number in claim[\"evidences\"]:\n",
        "            cur_evi_index = evi_number_to_evi_id[evi_number]\n",
        "            if cur_evi_index not in evi_indices:\n",
        "                evi_indices.append(cur_evi_index)\n",
        "            pos_evi_indices.append(evi_indices.index(cur_evi_index))\n",
        "        claims_pos_evidence_indices.append(pos_evi_indices)\n",
        "    return evi_indices, claims_pos_evidence_indices\n",
        "\n",
        "#loss based on cosine similarity of pos and neg evidence\n",
        "def contrastive_loss(claim_embedding, pos_evi_embeddings, neg_evi_embeddings, temperature=0.1):\n",
        "    \"\"\"Compute contrastive loss for a claim\"\"\"\n",
        "    pos_sim = torch.exp(torch.matmul(claim_embedding, pos_evi_embeddings.T) / temperature).sum()\n",
        "    neg_sim = torch.exp(torch.matmul(claim_embedding, neg_evi_embeddings.T) / temperature).sum()\n",
        "\n",
        "    loss = -torch.log(pos_sim / (pos_sim + neg_sim))\n",
        "    return loss.mean()"
      ]
    },
    {
      "cell_type": "code",
      "execution_count": null,
      "metadata": {},
      "outputs": [
        {
          "data": {
            "application/vnd.jupyter.widget-view+json": {
              "model_id": "542592da490643908df4b9390fb8024e",
              "version_major": 2,
              "version_minor": 0
            },
            "text/plain": [
              "config.json:   0%|          | 0.00/612 [00:00<?, ?B/s]"
            ]
          },
          "metadata": {},
          "output_type": "display_data"
        },
        {
          "name": "stderr",
          "output_type": "stream",
          "text": [
            "d:\\Tool\\Programming\\anaconda3\\Lib\\site-packages\\huggingface_hub\\file_download.py:143: UserWarning: `huggingface_hub` cache-system uses symlinks by default to efficiently store duplicated files but your machine does not support them in C:\\Users\\Salist desk2\\.cache\\huggingface\\hub\\models--sentence-transformers--all-MiniLM-L6-v2. Caching files will still work but in a degraded version that might require more space on your disk. This warning can be disabled by setting the `HF_HUB_DISABLE_SYMLINKS_WARNING` environment variable. For more details, see https://huggingface.co/docs/huggingface_hub/how-to-cache#limitations.\n",
            "To support symlinks on Windows, you either need to activate Developer Mode or to run Python as an administrator. In order to activate developer mode, see this article: https://docs.microsoft.com/en-us/windows/apps/get-started/enable-your-device-for-development\n",
            "  warnings.warn(message)\n",
            "Xet Storage is enabled for this repo, but the 'hf_xet' package is not installed. Falling back to regular HTTP download. For better performance, install the package with: `pip install huggingface_hub[hf_xet]` or `pip install hf_xet`\n"
          ]
        },
        {
          "data": {
            "application/vnd.jupyter.widget-view+json": {
              "model_id": "cfd562574a50438081f3338f9e850496",
              "version_major": 2,
              "version_minor": 0
            },
            "text/plain": [
              "model.safetensors:   0%|          | 0.00/90.9M [00:00<?, ?B/s]"
            ]
          },
          "metadata": {},
          "output_type": "display_data"
        },
        {
          "ename": "AssertionError",
          "evalue": "Torch not compiled with CUDA enabled",
          "output_type": "error",
          "traceback": [
            "\u001b[1;31m---------------------------------------------------------------------------\u001b[0m",
            "\u001b[1;31mAssertionError\u001b[0m                            Traceback (most recent call last)",
            "Cell \u001b[1;32mIn[30], line 16\u001b[0m\n\u001b[0;32m     14\u001b[0m model\u001b[38;5;241m=\u001b[39m AutoModel\u001b[38;5;241m.\u001b[39mfrom_pretrained(model_name)\n\u001b[0;32m     15\u001b[0m \u001b[38;5;66;03m# model = model\u001b[39;00m\n\u001b[1;32m---> 16\u001b[0m model \u001b[38;5;241m=\u001b[39m model\u001b[38;5;241m.\u001b[39mcuda()\n\u001b[0;32m     18\u001b[0m num_warmup_steps \u001b[38;5;241m=\u001b[39m \u001b[38;5;28mint\u001b[39m(\u001b[38;5;241m0.1\u001b[39m \u001b[38;5;241m*\u001b[39m max_steps)\n\u001b[0;32m     19\u001b[0m optimizer \u001b[38;5;241m=\u001b[39m torch\u001b[38;5;241m.\u001b[39moptim\u001b[38;5;241m.\u001b[39mAdam(model\u001b[38;5;241m.\u001b[39mparameters(), lr\u001b[38;5;241m=\u001b[39mlearning_rate, weight_decay\u001b[38;5;241m=\u001b[39m\u001b[38;5;241m1e-5\u001b[39m)\n",
            "File \u001b[1;32md:\\Tool\\Programming\\anaconda3\\Lib\\site-packages\\transformers\\modeling_utils.py:3654\u001b[0m, in \u001b[0;36mPreTrainedModel.cuda\u001b[1;34m(self, *args, **kwargs)\u001b[0m\n\u001b[0;32m   3649\u001b[0m         \u001b[38;5;28;01mraise\u001b[39;00m \u001b[38;5;167;01mValueError\u001b[39;00m(\n\u001b[0;32m   3650\u001b[0m             \u001b[38;5;124m\"\u001b[39m\u001b[38;5;124mCalling `cuda()` is not supported for `4-bit` quantized models with the installed version of bitsandbytes. \u001b[39m\u001b[38;5;124m\"\u001b[39m\n\u001b[0;32m   3651\u001b[0m             \u001b[38;5;124mf\u001b[39m\u001b[38;5;124m\"\u001b[39m\u001b[38;5;124mThe current device is `\u001b[39m\u001b[38;5;132;01m{\u001b[39;00m\u001b[38;5;28mself\u001b[39m\u001b[38;5;241m.\u001b[39mdevice\u001b[38;5;132;01m}\u001b[39;00m\u001b[38;5;124m`. If you intended to move the model, please install bitsandbytes >= 0.43.2.\u001b[39m\u001b[38;5;124m\"\u001b[39m\n\u001b[0;32m   3652\u001b[0m         )\n\u001b[0;32m   3653\u001b[0m \u001b[38;5;28;01melse\u001b[39;00m:\n\u001b[1;32m-> 3654\u001b[0m     \u001b[38;5;28;01mreturn\u001b[39;00m \u001b[38;5;28msuper\u001b[39m()\u001b[38;5;241m.\u001b[39mcuda(\u001b[38;5;241m*\u001b[39margs, \u001b[38;5;241m*\u001b[39m\u001b[38;5;241m*\u001b[39mkwargs)\n",
            "File \u001b[1;32md:\\Tool\\Programming\\anaconda3\\Lib\\site-packages\\torch\\nn\\modules\\module.py:1065\u001b[0m, in \u001b[0;36mModule.cuda\u001b[1;34m(self, device)\u001b[0m\n\u001b[0;32m   1048\u001b[0m \u001b[38;5;28;01mdef\u001b[39;00m \u001b[38;5;21mcuda\u001b[39m(\u001b[38;5;28mself\u001b[39m: T, device: Optional[Union[\u001b[38;5;28mint\u001b[39m, device]] \u001b[38;5;241m=\u001b[39m \u001b[38;5;28;01mNone\u001b[39;00m) \u001b[38;5;241m-\u001b[39m\u001b[38;5;241m>\u001b[39m T:\n\u001b[0;32m   1049\u001b[0m \u001b[38;5;250m    \u001b[39m\u001b[38;5;124mr\u001b[39m\u001b[38;5;124;03m\"\"\"Move all model parameters and buffers to the GPU.\u001b[39;00m\n\u001b[0;32m   1050\u001b[0m \n\u001b[0;32m   1051\u001b[0m \u001b[38;5;124;03m    This also makes associated parameters and buffers different objects. So\u001b[39;00m\n\u001b[1;32m   (...)\u001b[0m\n\u001b[0;32m   1063\u001b[0m \u001b[38;5;124;03m        Module: self\u001b[39;00m\n\u001b[0;32m   1064\u001b[0m \u001b[38;5;124;03m    \"\"\"\u001b[39;00m\n\u001b[1;32m-> 1065\u001b[0m     \u001b[38;5;28;01mreturn\u001b[39;00m \u001b[38;5;28mself\u001b[39m\u001b[38;5;241m.\u001b[39m_apply(\u001b[38;5;28;01mlambda\u001b[39;00m t: t\u001b[38;5;241m.\u001b[39mcuda(device))\n",
            "File \u001b[1;32md:\\Tool\\Programming\\anaconda3\\Lib\\site-packages\\torch\\nn\\modules\\module.py:915\u001b[0m, in \u001b[0;36mModule._apply\u001b[1;34m(self, fn, recurse)\u001b[0m\n\u001b[0;32m    913\u001b[0m \u001b[38;5;28;01mif\u001b[39;00m recurse:\n\u001b[0;32m    914\u001b[0m     \u001b[38;5;28;01mfor\u001b[39;00m module \u001b[38;5;129;01min\u001b[39;00m \u001b[38;5;28mself\u001b[39m\u001b[38;5;241m.\u001b[39mchildren():\n\u001b[1;32m--> 915\u001b[0m         module\u001b[38;5;241m.\u001b[39m_apply(fn)\n\u001b[0;32m    917\u001b[0m \u001b[38;5;28;01mdef\u001b[39;00m \u001b[38;5;21mcompute_should_use_set_data\u001b[39m(tensor, tensor_applied):\n\u001b[0;32m    918\u001b[0m     \u001b[38;5;28;01mif\u001b[39;00m torch\u001b[38;5;241m.\u001b[39m_has_compatible_shallow_copy_type(tensor, tensor_applied):\n\u001b[0;32m    919\u001b[0m         \u001b[38;5;66;03m# If the new tensor has compatible tensor type as the existing tensor,\u001b[39;00m\n\u001b[0;32m    920\u001b[0m         \u001b[38;5;66;03m# the current behavior is to change the tensor in-place using `.data =`,\u001b[39;00m\n\u001b[1;32m   (...)\u001b[0m\n\u001b[0;32m    925\u001b[0m         \u001b[38;5;66;03m# global flag to let the user control whether they want the future\u001b[39;00m\n\u001b[0;32m    926\u001b[0m         \u001b[38;5;66;03m# behavior of overwriting the existing tensor or not.\u001b[39;00m\n",
            "File \u001b[1;32md:\\Tool\\Programming\\anaconda3\\Lib\\site-packages\\torch\\nn\\modules\\module.py:915\u001b[0m, in \u001b[0;36mModule._apply\u001b[1;34m(self, fn, recurse)\u001b[0m\n\u001b[0;32m    913\u001b[0m \u001b[38;5;28;01mif\u001b[39;00m recurse:\n\u001b[0;32m    914\u001b[0m     \u001b[38;5;28;01mfor\u001b[39;00m module \u001b[38;5;129;01min\u001b[39;00m \u001b[38;5;28mself\u001b[39m\u001b[38;5;241m.\u001b[39mchildren():\n\u001b[1;32m--> 915\u001b[0m         module\u001b[38;5;241m.\u001b[39m_apply(fn)\n\u001b[0;32m    917\u001b[0m \u001b[38;5;28;01mdef\u001b[39;00m \u001b[38;5;21mcompute_should_use_set_data\u001b[39m(tensor, tensor_applied):\n\u001b[0;32m    918\u001b[0m     \u001b[38;5;28;01mif\u001b[39;00m torch\u001b[38;5;241m.\u001b[39m_has_compatible_shallow_copy_type(tensor, tensor_applied):\n\u001b[0;32m    919\u001b[0m         \u001b[38;5;66;03m# If the new tensor has compatible tensor type as the existing tensor,\u001b[39;00m\n\u001b[0;32m    920\u001b[0m         \u001b[38;5;66;03m# the current behavior is to change the tensor in-place using `.data =`,\u001b[39;00m\n\u001b[1;32m   (...)\u001b[0m\n\u001b[0;32m    925\u001b[0m         \u001b[38;5;66;03m# global flag to let the user control whether they want the future\u001b[39;00m\n\u001b[0;32m    926\u001b[0m         \u001b[38;5;66;03m# behavior of overwriting the existing tensor or not.\u001b[39;00m\n",
            "File \u001b[1;32md:\\Tool\\Programming\\anaconda3\\Lib\\site-packages\\torch\\nn\\modules\\module.py:942\u001b[0m, in \u001b[0;36mModule._apply\u001b[1;34m(self, fn, recurse)\u001b[0m\n\u001b[0;32m    938\u001b[0m \u001b[38;5;66;03m# Tensors stored in modules are graph leaves, and we don't want to\u001b[39;00m\n\u001b[0;32m    939\u001b[0m \u001b[38;5;66;03m# track autograd history of `param_applied`, so we have to use\u001b[39;00m\n\u001b[0;32m    940\u001b[0m \u001b[38;5;66;03m# `with torch.no_grad():`\u001b[39;00m\n\u001b[0;32m    941\u001b[0m \u001b[38;5;28;01mwith\u001b[39;00m torch\u001b[38;5;241m.\u001b[39mno_grad():\n\u001b[1;32m--> 942\u001b[0m     param_applied \u001b[38;5;241m=\u001b[39m fn(param)\n\u001b[0;32m    943\u001b[0m p_should_use_set_data \u001b[38;5;241m=\u001b[39m compute_should_use_set_data(param, param_applied)\n\u001b[0;32m    945\u001b[0m \u001b[38;5;66;03m# subclasses may have multiple child tensors so we need to use swap_tensors\u001b[39;00m\n",
            "File \u001b[1;32md:\\Tool\\Programming\\anaconda3\\Lib\\site-packages\\torch\\nn\\modules\\module.py:1065\u001b[0m, in \u001b[0;36mModule.cuda.<locals>.<lambda>\u001b[1;34m(t)\u001b[0m\n\u001b[0;32m   1048\u001b[0m \u001b[38;5;28;01mdef\u001b[39;00m \u001b[38;5;21mcuda\u001b[39m(\u001b[38;5;28mself\u001b[39m: T, device: Optional[Union[\u001b[38;5;28mint\u001b[39m, device]] \u001b[38;5;241m=\u001b[39m \u001b[38;5;28;01mNone\u001b[39;00m) \u001b[38;5;241m-\u001b[39m\u001b[38;5;241m>\u001b[39m T:\n\u001b[0;32m   1049\u001b[0m \u001b[38;5;250m    \u001b[39m\u001b[38;5;124mr\u001b[39m\u001b[38;5;124;03m\"\"\"Move all model parameters and buffers to the GPU.\u001b[39;00m\n\u001b[0;32m   1050\u001b[0m \n\u001b[0;32m   1051\u001b[0m \u001b[38;5;124;03m    This also makes associated parameters and buffers different objects. So\u001b[39;00m\n\u001b[1;32m   (...)\u001b[0m\n\u001b[0;32m   1063\u001b[0m \u001b[38;5;124;03m        Module: self\u001b[39;00m\n\u001b[0;32m   1064\u001b[0m \u001b[38;5;124;03m    \"\"\"\u001b[39;00m\n\u001b[1;32m-> 1065\u001b[0m     \u001b[38;5;28;01mreturn\u001b[39;00m \u001b[38;5;28mself\u001b[39m\u001b[38;5;241m.\u001b[39m_apply(\u001b[38;5;28;01mlambda\u001b[39;00m t: t\u001b[38;5;241m.\u001b[39mcuda(device))\n",
            "File \u001b[1;32md:\\Tool\\Programming\\anaconda3\\Lib\\site-packages\\torch\\cuda\\__init__.py:363\u001b[0m, in \u001b[0;36m_lazy_init\u001b[1;34m()\u001b[0m\n\u001b[0;32m    358\u001b[0m     \u001b[38;5;28;01mraise\u001b[39;00m \u001b[38;5;167;01mRuntimeError\u001b[39;00m(\n\u001b[0;32m    359\u001b[0m         \u001b[38;5;124m\"\u001b[39m\u001b[38;5;124mCannot re-initialize CUDA in forked subprocess. To use CUDA with \u001b[39m\u001b[38;5;124m\"\u001b[39m\n\u001b[0;32m    360\u001b[0m         \u001b[38;5;124m\"\u001b[39m\u001b[38;5;124mmultiprocessing, you must use the \u001b[39m\u001b[38;5;124m'\u001b[39m\u001b[38;5;124mspawn\u001b[39m\u001b[38;5;124m'\u001b[39m\u001b[38;5;124m start method\u001b[39m\u001b[38;5;124m\"\u001b[39m\n\u001b[0;32m    361\u001b[0m     )\n\u001b[0;32m    362\u001b[0m \u001b[38;5;28;01mif\u001b[39;00m \u001b[38;5;129;01mnot\u001b[39;00m \u001b[38;5;28mhasattr\u001b[39m(torch\u001b[38;5;241m.\u001b[39m_C, \u001b[38;5;124m\"\u001b[39m\u001b[38;5;124m_cuda_getDeviceCount\u001b[39m\u001b[38;5;124m\"\u001b[39m):\n\u001b[1;32m--> 363\u001b[0m     \u001b[38;5;28;01mraise\u001b[39;00m \u001b[38;5;167;01mAssertionError\u001b[39;00m(\u001b[38;5;124m\"\u001b[39m\u001b[38;5;124mTorch not compiled with CUDA enabled\u001b[39m\u001b[38;5;124m\"\u001b[39m)\n\u001b[0;32m    364\u001b[0m \u001b[38;5;28;01mif\u001b[39;00m _cudart \u001b[38;5;129;01mis\u001b[39;00m \u001b[38;5;28;01mNone\u001b[39;00m:\n\u001b[0;32m    365\u001b[0m     \u001b[38;5;28;01mraise\u001b[39;00m \u001b[38;5;167;01mAssertionError\u001b[39;00m(\n\u001b[0;32m    366\u001b[0m         \u001b[38;5;124m\"\u001b[39m\u001b[38;5;124mlibcudart functions unavailable. It looks like you have a broken build?\u001b[39m\u001b[38;5;124m\"\u001b[39m\n\u001b[0;32m    367\u001b[0m     )\n",
            "\u001b[1;31mAssertionError\u001b[0m: Torch not compiled with CUDA enabled"
          ]
        }
      ],
      "source": [
        "#########RUN ON COLAB##########\n",
        "########Training setup#########\n",
        "import random\n",
        "from transformers import get_cosine_schedule_with_warmup\n",
        "max_epochs = 10  ######Change Later######\n",
        "max_steps = 100  ######Change Later######\n",
        "batch_size = 64\n",
        "learning_rate = 5e-5\n",
        "test_period = 100\n",
        "log_period = 20\n",
        "\n",
        "#todo adjust batch size\n",
        "model= AutoModel.from_pretrained(model_name)\n",
        "model = model.cuda()\n",
        "optimizer = torch.optim.Adam(model.parameters(), lr=learning_rate, weight_decay=1e-5)\n",
        "\n",
        "num_warmup_steps = int(0.1 * max_steps)\n",
        "scheduler = get_cosine_schedule_with_warmup(\n",
        "    optimizer,\n",
        "    num_warmup_steps=num_warmup_steps,\n",
        "    num_training_steps=max_steps\n",
        ")\n",
        "\n",
        "def save_training_log(loss_record, f1_record):\n",
        "    params = {\n",
        "        \"batch_size\": batch_size,\n",
        "        \"model_name\": model_name,\n",
        "        \"base_lr\": learning_rate\n",
        "    }\n",
        "    log = {\n",
        "        \"params\": params,\n",
        "        \"loss_record\": loss_record,\n",
        "        \"f1_record\": f1_record\n",
        "    }\n",
        "    log_name = f\"{model_name.split('/')[1]}_dev_log.json\"\n",
        "    print(f\"Saving training log to results/{log_name}\")\n",
        "    os.makedirs(\"results\", exist_ok=True)\n",
        "    with open(os.path.join(\"results\", log_name), \"w\", encoding=\"utf-8\") as f:\n",
        "        json.dump(log, f, ensure_ascii=False, indent=2)\n",
        "\n",
        "            "
      ]
    },
    {
      "cell_type": "code",
      "execution_count": null,
      "metadata": {},
      "outputs": [],
      "source": [
        "#########RUN ON COLAB##########\n",
        "step = 0\n",
        "model.train()\n",
        "max_f1 = 0.0\n",
        "loss_record = []\n",
        "f1_record = []\n",
        "for epoch in range(max_epochs):\n",
        "    print(f\"Epoch {epoch+1}/{max_epochs}\")\n",
        "    random.shuffle(tr_numbers)\n",
        "\n",
        "    for i in range(0, len(tr_numbers), batch_size):\n",
        "        if step > max_steps:\n",
        "            break\n",
        "        step += 1\n",
        "        if step % 10 == 0:\n",
        "            print(f\"Step {step}\")\n",
        "        batch_claim_ids = tr_numbers[i:i + batch_size] # claim ids\n",
        "        batch_claims = [tr_claims[claim_id] for claim_id in batch_claim_ids]\n",
        "        batch_tr_indices = [claim_number_to_tr_id[claim_id] for claim_id in batch_claim_ids] #claims' train indices\n",
        "\n",
        "        claim_text_indices = [tr_texts[i] for i in batch_tr_indices]\n",
        "        norm_claim_embeddings = get_normalized_embeddings(claim_text_indices, model, tokenizer)\n",
        "\n",
        "    \n",
        "        all_real_evi, pos_evi = get_real_evidences(batch_claims)\n",
        "        cur_evi_indices = [evidences_texts[id] for id in all_real_evi]\n",
        "        norm_evi_embeddings = get_normalized_embeddings(cur_evi_indices, model, tokenizer)\n",
        "\n",
        "        loss = []\n",
        "        for i, claim_embedding in enumerate(norm_claim_embeddings):\n",
        "            pos_evi_embedding = norm_evi_embeddings[torch.tensor(pos_evi[i])]\n",
        "            #todo adjust negtive evidence, more negative evidence use tfidf & some random\n",
        "            #todo try to use model prediction as pos nega evidences\n",
        "            \n",
        "            #nega evi 1: postive evidence of other claims \n",
        "            neg_evidences = [j for j in range(len(all_real_evi)) if j not in pos_evi[i]]\n",
        "            \n",
        "\n",
        "            neg_evi_embedding = norm_evi_embeddings[torch.tensor(neg_evidences)]\n",
        "            loss.append(contrastive_loss(claim_embedding, pos_evi_embedding, neg_evi_embedding))\n",
        "        loss = torch.mean(torch.stack(loss))\n",
        "        \n",
        "        optimizer.zero_grad()\n",
        "        loss.backward()\n",
        "        optimizer.step()\n",
        "        scheduler.step()\n",
        "        torch.cuda.empty_cache()\n",
        "        if step % log_period == 0:\n",
        "            loss_record.append(loss.item())\n",
        "            print(f\"Step {step}, Loss: {loss.item()}\")\n",
        "        if step % test_period == 0 and step > 150:\n",
        "            print(\"Evaluating on dev set...\")\n",
        "            dev_f1 = calc_f1(dev_texts, dev_claims, evidences_texts, model)\n",
        "            avg_f1 = np.mean(dev_f1)\n",
        "            f1_record.append(avg_f1)\n",
        "            print(f\"Avg F1 on dev set: {avg_f1}, History Best: {max_f1}\")\n",
        "            if avg_f1 > max_f1:\n",
        "                max_f1 = avg_f1\n",
        "                print(f\"New best F1: {max_f1}, model saved.\")\n",
        "                os.makedirs(\"results\", exist_ok=True)\n",
        "                torch.save(model.state_dict(), os.path.join(\"results\", \"best_model.pth\"))\n",
        "                \n",
        "save_training_log(loss_record, f1_record)"
      ]
    },
    {
      "cell_type": "markdown",
      "metadata": {
        "id": "EzGuzHPE87Ya"
      },
      "source": [
        "# 3.Testing and Evaluation\n",
        "(You can add as many code blocks and text blocks as you need. However, YOU SHOULD NOT MODIFY the section title)"
      ]
    }
  ],
  "metadata": {
    "accelerator": "GPU",
    "colab": {
      "gpuType": "T4",
      "name": "GroupID44_comp90042_project_2025.ipynb",
      "provenance": []
    },
    "kernelspec": {
      "display_name": "base",
      "language": "python",
      "name": "python3"
    },
    "language_info": {
      "codemirror_mode": {
        "name": "ipython",
        "version": 3
      },
      "file_extension": ".py",
      "mimetype": "text/x-python",
      "name": "python",
      "nbconvert_exporter": "python",
      "pygments_lexer": "ipython3",
      "version": "3.12.7"
    }
  },
  "nbformat": 4,
  "nbformat_minor": 0
}
